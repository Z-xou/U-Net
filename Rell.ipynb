{
  "nbformat": 4,
  "nbformat_minor": 0,
  "metadata": {
    "colab": {
      "provenance": [],
      "toc_visible": true,
      "authorship_tag": "ABX9TyPMG3BGkHJ1Vc2GHKa3QtJE",
      "include_colab_link": true
    },
    "kernelspec": {
      "name": "python3",
      "display_name": "Python 3"
    },
    "language_info": {
      "name": "python"
    }
  },
  "cells": [
    {
      "cell_type": "markdown",
      "metadata": {
        "id": "view-in-github",
        "colab_type": "text"
      },
      "source": [
        "<a href=\"https://colab.research.google.com/github/Z-xou/U-Net/blob/main/Rell.ipynb\" target=\"_parent\"><img src=\"https://colab.research.google.com/assets/colab-badge.svg\" alt=\"Open In Colab\"/></a>"
      ]
    },
    {
      "cell_type": "code",
      "execution_count": null,
      "metadata": {
        "colab": {
          "base_uri": "https://localhost:8080/"
        },
        "id": "_YpBlvTuX-Ke",
        "outputId": "9fda2e56-2a59-42ce-ebc1-26d1b31a3823"
      },
      "outputs": [
        {
          "output_type": "stream",
          "name": "stdout",
          "text": [
            "Mounted at /content/gdrive\n"
          ]
        }
      ],
      "source": [
        "from google.colab import drive\n",
        "drive.mount('/content/gdrive')"
      ]
    },
    {
      "cell_type": "code",
      "execution_count": null,
      "metadata": {
        "id": "qI02TJQD7N3Q"
      },
      "outputs": [],
      "source": [
        "from google.colab.patches import cv2_imshow\n",
        "import cv2\n",
        "import numpy as np\n",
        "import matplotlib.pyplot as plt\n",
        "import matplotlib.patches as patches\n",
        "import matplotlib as mpl\n",
        "import random\n",
        "import math\n",
        "from astropy.io import fits\n",
        "import matplotlib as mpl\n",
        "from PIL import Image\n",
        "import os\n",
        "import astropy\n",
        "from astropy.io import fits"
      ]
    },
    {
      "cell_type": "markdown",
      "metadata": {
        "id": "qlzeUDY_mgUb"
      },
      "source": [
        "#Generators"
      ]
    },
    {
      "cell_type": "code",
      "execution_count": null,
      "metadata": {
        "id": "fZLS7tYPwmVr"
      },
      "outputs": [],
      "source": [
        "def hw_gen():\n",
        "  w = random.randrange(8, 43)\n",
        "  h = random.randrange(int(w/10), int(w/3))\n",
        "  return w,h\n"
      ]
    },
    {
      "cell_type": "code",
      "execution_count": null,
      "metadata": {
        "id": "BQvFNCKuwmVs"
      },
      "outputs": [],
      "source": [
        "def xy_gen():\n",
        "  x = random.randrange(10, 110)\n",
        "  y = random.randrange(10, 110)\n",
        "  h,w = hw_gen()\n",
        "  if w + x > 128:\n",
        "    x = x - w\n",
        "  if x - w < 0:\n",
        "    x = x + w\n",
        "  if h + y > 128:\n",
        "    y = y - h\n",
        "  if y - h < 0:\n",
        "    y = y + h\n",
        "  return x, y"
      ]
    },
    {
      "cell_type": "markdown",
      "metadata": {
        "id": "oaw1ZLfdmkI1"
      },
      "source": [
        "##All images"
      ]
    },
    {
      "cell_type": "code",
      "execution_count": null,
      "metadata": {
        "id": "_z1SefW7GopO"
      },
      "outputs": [],
      "source": [
        "x = '.../images/'\n",
        "v = '.../binary_masks/'\n",
        "z = 'rell'\n",
        "y = '.png'\n",
        "\n",
        "# hw_r = np.zeros((181,2))\n",
        "hw_e = np.zeros((181,2))\n",
        "\n",
        "# xy_r = np.zeros((181,2))\n",
        "xy_e = np.zeros((181,2))\n",
        "\n",
        "# a_r = np.arange(2,182,2)\n",
        "a_e = np.arange(1,181,2)\n",
        "\n",
        "for j in range(175, 250):\n",
        "  for i in range(90):\n",
        "\n",
        "    png_width, png_height = 125, 128\n",
        "    png_dpi = 61\n",
        "\n",
        "    plt.style.use('dark_background')\n",
        "\n",
        "    fig, ax = plt.subplots(figsize=(png_width / png_dpi, png_height / png_dpi))\n",
        "\n",
        "    ax.set_xlim((0, 128))\n",
        "    ax.set_ylim((0, 128))\n",
        "\n",
        "    ax.axis('off')\n",
        "\n",
        "    # hw_r[i] = hw_gen()\n",
        "    hw_e[i] = hw_gen()\n",
        "\n",
        "    # xy_r[i] = xy_gen()\n",
        "    xy_e[i] = xy_gen()\n",
        "\n",
        "    # r = patches.Rectangle((xy_r[i,0], xy_r[i,1]), hw_r[i,1], hw_r[i,0], color = 'white', angle = a_r[i])\n",
        "    e = patches.Ellipse((xy_e[i,0], xy_e[i,1]), hw_e[i,1], hw_e[i,0], color = 'white', angle = a_e[i])\n",
        "\n",
        "    # ax.add_patch(r)\n",
        "    ax.add_patch(e)\n",
        "\n",
        "    # plt.savefig(x + str(j) + z + str(a_r[i]) + y, bbox_inches='tight', pad_inches = 0)\n",
        "    plt.savefig(x + str(j) + z + str(a_e[i]) + y, bbox_inches='tight', pad_inches = 0)\n",
        "\n",
        "    # image = cv2.imread(x + str(j) + z + str(a_r[i]) + y)\n",
        "    image = cv2.imread(x + str(j) + z + str(a_e[i]) + y)\n",
        "\n",
        "    img = image/255\n",
        "    img[img> 0] = 1 \n",
        "\n",
        "    # cv2.imwrite(v + str(j) + z + str(a_r[i]) + y, img) \n",
        "    cv2.imwrite(v + str(j) + z + str(a_e[i]) + y, img)\n",
        "    \n",
        "    cv2.waitKey(0)\n"
      ]
    },
    {
      "cell_type": "markdown",
      "metadata": {
        "id": "KhSDkM7YReqW"
      },
      "source": [
        "#10 Rell"
      ]
    },
    {
      "cell_type": "markdown",
      "metadata": {
        "id": "e1GHwRsGReqW"
      },
      "source": [
        "##Masks"
      ]
    },
    {
      "cell_type": "code",
      "execution_count": null,
      "metadata": {
        "id": "72GHOa9wReqX"
      },
      "outputs": [],
      "source": [
        "from random import shuffle\n",
        "from glob import glob\n",
        "images = glob(r\".../binary_masks/*.png\") #0 1\n",
        "images.sort()\n",
        "random.shuffle(images)"
      ]
    },
    {
      "cell_type": "code",
      "execution_count": null,
      "metadata": {
        "id": "2Hpz50wUReqZ"
      },
      "outputs": [],
      "source": [
        "v=0\n",
        "\n",
        "w = '.../10/masks/'\n",
        "z = 'rell'\n",
        "y = '.png'\n",
        "\n",
        "for i in range(300):\n",
        "  images_theta = np.zeros((128,128,3))\n",
        "  images_binary = np.zeros((128,128,3))\n",
        "\n",
        "  # Here you may vary the range to the preferred number of figures\n",
        "  for j in range(0,10):\n",
        "\n",
        "    binary_img = cv2.imread(images[v+j]) # 0 1\n",
        "    \n",
        "    theta_img = np.zeros((128,128,3))\n",
        "    theta_img = binary_img*int(images[v+j][67:-4])\n",
        "\n",
        "    images_binary = images_binary + binary_img\n",
        "    images_theta = images_theta + theta_img\n",
        "\n",
        "    angle = np.unique(theta_img)[1]\n",
        "    \n",
        "    images_theta[images_binary == 2] = angle\n",
        "    images_binary[images_binary == 2] = 1\n",
        "\n",
        "  print(\"Done\", i)\n",
        "\n",
        "  # Don't forget to change it here too\n",
        "  v = v+10\n",
        "\n",
        "  cv2.imwrite(w + str(i) + z + y, images_theta)\n",
        "  cv2.waitKey(0)"
      ]
    },
    {
      "cell_type": "markdown",
      "metadata": {
        "id": "ZRiGeWqLReqa"
      },
      "source": [
        "##Images"
      ]
    },
    {
      "cell_type": "code",
      "execution_count": null,
      "metadata": {
        "id": "P81_7PEnReqa"
      },
      "outputs": [],
      "source": [
        "x = '.../10/masks/'\n",
        "z = 'rell'\n",
        "y = '.png'\n",
        "w = '.../10/images/'\n",
        "\n",
        "for j in range(0, 300):\n",
        "\n",
        "  image = cv2.imread(x + str(j) + z  + y)\n",
        "\n",
        "  image[image > 0] = 255\n",
        "\n",
        "  cv2.imwrite(w + str(j) + z + y, image)\n",
        "  cv2.waitKey(0)"
      ]
    }
  ]
}